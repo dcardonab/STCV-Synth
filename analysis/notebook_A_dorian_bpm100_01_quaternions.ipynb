{
 "cells": [
  {
   "cell_type": "code",
   "execution_count": 4,
   "metadata": {},
   "outputs": [],
   "source": [
    "import matplotlib.pyplot as plt\n",
    "import pandas as pd\n",
    "import numpy as np"
   ]
  },
  {
   "cell_type": "code",
   "execution_count": 5,
   "metadata": {},
   "outputs": [],
   "source": [
    "data_path = \"renderExamples/A_dorian_bpm100_01_quaternions.csv\""
   ]
  },
  {
   "cell_type": "markdown",
   "metadata": {},
   "source": [
    "### Basic Data Evaluation\n",
    "The data contains UUID which acts a surrogate primary key.  The first column in the data contains that value.  Since UUID is guaranteed to be unique, the column is brought in as an index column. Here the data is read in using Pandas to create a Pandas dataframe. "
   ]
  },
  {
   "cell_type": "code",
   "execution_count": 6,
   "metadata": {},
   "outputs": [],
   "source": [
    "df = pd.read_csv(data_path, index_col=0)"
   ]
  },
  {
   "cell_type": "markdown",
   "metadata": {},
   "source": [
    "Using the Pandas `head()` function, we can get a quick understanding of the data columns. Note the first column UUID will be ignored for the rest of this document"
   ]
  },
  {
   "cell_type": "code",
   "execution_count": 7,
   "metadata": {},
   "outputs": [
    {
     "data": {
      "text/html": [
       "<div>\n",
       "<style scoped>\n",
       "    .dataframe tbody tr th:only-of-type {\n",
       "        vertical-align: middle;\n",
       "    }\n",
       "\n",
       "    .dataframe tbody tr th {\n",
       "        vertical-align: top;\n",
       "    }\n",
       "\n",
       "    .dataframe thead th {\n",
       "        text-align: right;\n",
       "    }\n",
       "</style>\n",
       "<table border=\"1\" class=\"dataframe\">\n",
       "  <thead>\n",
       "    <tr style=\"text-align: right;\">\n",
       "      <th></th>\n",
       "      <th>ticks</th>\n",
       "      <th>raw_i</th>\n",
       "      <th>raw_j</th>\n",
       "      <th>raw_k</th>\n",
       "      <th>norm_w</th>\n",
       "      <th>norm_i</th>\n",
       "      <th>norm_j</th>\n",
       "      <th>norm_k</th>\n",
       "      <th>roll</th>\n",
       "      <th>pitch</th>\n",
       "      <th>yaw</th>\n",
       "    </tr>\n",
       "  </thead>\n",
       "  <tbody>\n",
       "    <tr>\n",
       "      <th>eab07098-a99b-4af3-883f-bf28e6717cd4</th>\n",
       "      <td>6806</td>\n",
       "      <td>7413</td>\n",
       "      <td>-1111</td>\n",
       "      <td>6518</td>\n",
       "      <td>0.58</td>\n",
       "      <td>0.61</td>\n",
       "      <td>-0.09</td>\n",
       "      <td>0.54</td>\n",
       "      <td>68.32</td>\n",
       "      <td>-49.32</td>\n",
       "      <td>51.11</td>\n",
       "    </tr>\n",
       "    <tr>\n",
       "      <th>a34201bb-dc69-4c84-bcfb-19881807703a</th>\n",
       "      <td>6826</td>\n",
       "      <td>7415</td>\n",
       "      <td>-1106</td>\n",
       "      <td>6516</td>\n",
       "      <td>0.23</td>\n",
       "      <td>0.73</td>\n",
       "      <td>-0.11</td>\n",
       "      <td>0.64</td>\n",
       "      <td>112.15</td>\n",
       "      <td>-77.85</td>\n",
       "      <td>40.05</td>\n",
       "    </tr>\n",
       "    <tr>\n",
       "      <th>560ee68b-64bd-4b55-a2db-d42cb6c8281f</th>\n",
       "      <td>6847</td>\n",
       "      <td>7417</td>\n",
       "      <td>-1100</td>\n",
       "      <td>6514</td>\n",
       "      <td>0.17</td>\n",
       "      <td>0.74</td>\n",
       "      <td>-0.11</td>\n",
       "      <td>0.65</td>\n",
       "      <td>136.06</td>\n",
       "      <td>-81.36</td>\n",
       "      <td>21.38</td>\n",
       "    </tr>\n",
       "    <tr>\n",
       "      <th>812100a0-ac4a-4a08-9d2b-2c4dfc967bfd</th>\n",
       "      <td>6867</td>\n",
       "      <td>7419</td>\n",
       "      <td>-1095</td>\n",
       "      <td>6512</td>\n",
       "      <td>0.14</td>\n",
       "      <td>0.74</td>\n",
       "      <td>-0.11</td>\n",
       "      <td>0.65</td>\n",
       "      <td>151.82</td>\n",
       "      <td>-82.29</td>\n",
       "      <td>7.94</td>\n",
       "    </tr>\n",
       "    <tr>\n",
       "      <th>a7b2bc21-a3c3-4927-ac7c-58e77e1a37ef</th>\n",
       "      <td>6886</td>\n",
       "      <td>7420</td>\n",
       "      <td>-1091</td>\n",
       "      <td>6510</td>\n",
       "      <td>0.12</td>\n",
       "      <td>0.74</td>\n",
       "      <td>-0.11</td>\n",
       "      <td>0.65</td>\n",
       "      <td>162.35</td>\n",
       "      <td>-82.55</td>\n",
       "      <td>-1.21</td>\n",
       "    </tr>\n",
       "  </tbody>\n",
       "</table>\n",
       "</div>"
      ],
      "text/plain": [
       "                                      ticks  raw_i  raw_j  raw_k  norm_w  \\\n",
       "eab07098-a99b-4af3-883f-bf28e6717cd4   6806   7413  -1111   6518    0.58   \n",
       "a34201bb-dc69-4c84-bcfb-19881807703a   6826   7415  -1106   6516    0.23   \n",
       "560ee68b-64bd-4b55-a2db-d42cb6c8281f   6847   7417  -1100   6514    0.17   \n",
       "812100a0-ac4a-4a08-9d2b-2c4dfc967bfd   6867   7419  -1095   6512    0.14   \n",
       "a7b2bc21-a3c3-4927-ac7c-58e77e1a37ef   6886   7420  -1091   6510    0.12   \n",
       "\n",
       "                                      norm_i  norm_j  norm_k    roll  pitch  \\\n",
       "eab07098-a99b-4af3-883f-bf28e6717cd4    0.61   -0.09    0.54   68.32 -49.32   \n",
       "a34201bb-dc69-4c84-bcfb-19881807703a    0.73   -0.11    0.64  112.15 -77.85   \n",
       "560ee68b-64bd-4b55-a2db-d42cb6c8281f    0.74   -0.11    0.65  136.06 -81.36   \n",
       "812100a0-ac4a-4a08-9d2b-2c4dfc967bfd    0.74   -0.11    0.65  151.82 -82.29   \n",
       "a7b2bc21-a3c3-4927-ac7c-58e77e1a37ef    0.74   -0.11    0.65  162.35 -82.55   \n",
       "\n",
       "                                        yaw  \n",
       "eab07098-a99b-4af3-883f-bf28e6717cd4  51.11  \n",
       "a34201bb-dc69-4c84-bcfb-19881807703a  40.05  \n",
       "560ee68b-64bd-4b55-a2db-d42cb6c8281f  21.38  \n",
       "812100a0-ac4a-4a08-9d2b-2c4dfc967bfd   7.94  \n",
       "a7b2bc21-a3c3-4927-ac7c-58e77e1a37ef  -1.21  "
      ]
     },
     "execution_count": 7,
     "metadata": {},
     "output_type": "execute_result"
    }
   ],
   "source": [
    "df.head()"
   ]
  },
  {
   "cell_type": "markdown",
   "metadata": {},
   "source": [
    "Running the Pandas dataframe `info()` method we can inspect the datatypes in the columns"
   ]
  }
 ],
 "metadata": {
  "interpreter": {
   "hash": "983d4753b88ebd808a4ada14ea2cd3ed78a040780fc373df5e9595f3e364d8dd"
  },
  "kernelspec": {
   "display_name": "Python 3.8.10 64-bit ('venv': venv)",
   "language": "python",
   "name": "python3"
  },
  "language_info": {
   "codemirror_mode": {
    "name": "ipython",
    "version": 3
   },
   "file_extension": ".py",
   "mimetype": "text/x-python",
   "name": "python",
   "nbconvert_exporter": "python",
   "pygments_lexer": "ipython3",
   "version": "3.8.10"
  },
  "orig_nbformat": 4
 },
 "nbformat": 4,
 "nbformat_minor": 2
}
