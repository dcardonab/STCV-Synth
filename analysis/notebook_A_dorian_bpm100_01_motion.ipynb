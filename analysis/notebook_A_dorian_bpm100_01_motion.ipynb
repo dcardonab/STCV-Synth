{
 "cells": [
  {
   "cell_type": "code",
   "execution_count": 1,
   "metadata": {},
   "outputs": [],
   "source": [
    "import matplotlib.pyplot as plt\n",
    "import pandas as pd\n",
    "import numpy as np"
   ]
  },
  {
   "cell_type": "code",
   "execution_count": 2,
   "metadata": {},
   "outputs": [],
   "source": [
    "data_path = \"renderExamples/A_dorian_bpm100_01_motion.csv\""
   ]
  },
  {
   "cell_type": "code",
   "execution_count": 3,
   "metadata": {},
   "outputs": [],
   "source": [
    "df = pd.read_csv(data_path, index_col=0)"
   ]
  },
  {
   "cell_type": "code",
   "execution_count": 4,
   "metadata": {},
   "outputs": [
    {
     "data": {
      "text/html": [
       "<div>\n",
       "<style scoped>\n",
       "    .dataframe tbody tr th:only-of-type {\n",
       "        vertical-align: middle;\n",
       "    }\n",
       "\n",
       "    .dataframe tbody tr th {\n",
       "        vertical-align: top;\n",
       "    }\n",
       "\n",
       "    .dataframe thead th {\n",
       "        text-align: right;\n",
       "    }\n",
       "</style>\n",
       "<table border=\"1\" class=\"dataframe\">\n",
       "  <thead>\n",
       "    <tr style=\"text-align: right;\">\n",
       "      <th></th>\n",
       "      <th>ticks</th>\n",
       "      <th>acc_x</th>\n",
       "      <th>acc_y</th>\n",
       "      <th>acc_z</th>\n",
       "      <th>gyr_x</th>\n",
       "      <th>gyr_y</th>\n",
       "      <th>gyr_z</th>\n",
       "      <th>mag_x</th>\n",
       "      <th>mag_y</th>\n",
       "      <th>mag_z</th>\n",
       "      <th>r</th>\n",
       "      <th>theta</th>\n",
       "      <th>phi</th>\n",
       "    </tr>\n",
       "  </thead>\n",
       "  <tbody>\n",
       "    <tr>\n",
       "      <th>b28a8a33-e2c6-4135-b3b2-b023ce16ef90</th>\n",
       "      <td>6807</td>\n",
       "      <td>-992</td>\n",
       "      <td>-40</td>\n",
       "      <td>-124</td>\n",
       "      <td>-700</td>\n",
       "      <td>100</td>\n",
       "      <td>0</td>\n",
       "      <td>170</td>\n",
       "      <td>607</td>\n",
       "      <td>-68</td>\n",
       "      <td>1000.52</td>\n",
       "      <td>97.12</td>\n",
       "      <td>-162.12</td>\n",
       "    </tr>\n",
       "    <tr>\n",
       "      <th>ef00b6ef-42da-4fe2-899b-4c8d3f1cdd9a</th>\n",
       "      <td>6826</td>\n",
       "      <td>-992</td>\n",
       "      <td>-39</td>\n",
       "      <td>-126</td>\n",
       "      <td>-800</td>\n",
       "      <td>400</td>\n",
       "      <td>-200</td>\n",
       "      <td>182</td>\n",
       "      <td>613</td>\n",
       "      <td>-62</td>\n",
       "      <td>1000.73</td>\n",
       "      <td>97.23</td>\n",
       "      <td>-162.80</td>\n",
       "    </tr>\n",
       "    <tr>\n",
       "      <th>0674a27f-196d-4d02-ad8e-538015cf996b</th>\n",
       "      <td>6845</td>\n",
       "      <td>-992</td>\n",
       "      <td>-37</td>\n",
       "      <td>-125</td>\n",
       "      <td>-800</td>\n",
       "      <td>-100</td>\n",
       "      <td>0</td>\n",
       "      <td>177</td>\n",
       "      <td>613</td>\n",
       "      <td>-65</td>\n",
       "      <td>1000.53</td>\n",
       "      <td>97.18</td>\n",
       "      <td>-163.51</td>\n",
       "    </tr>\n",
       "    <tr>\n",
       "      <th>2b45e4d6-f73f-45c4-8e25-235150248841</th>\n",
       "      <td>6863</td>\n",
       "      <td>-993</td>\n",
       "      <td>-39</td>\n",
       "      <td>-125</td>\n",
       "      <td>-700</td>\n",
       "      <td>0</td>\n",
       "      <td>0</td>\n",
       "      <td>174</td>\n",
       "      <td>613</td>\n",
       "      <td>-68</td>\n",
       "      <td>1001.60</td>\n",
       "      <td>97.17</td>\n",
       "      <td>-162.67</td>\n",
       "    </tr>\n",
       "    <tr>\n",
       "      <th>7b64dd9b-62c9-48df-beac-2c98655ed3cc</th>\n",
       "      <td>6882</td>\n",
       "      <td>-991</td>\n",
       "      <td>-38</td>\n",
       "      <td>-126</td>\n",
       "      <td>-800</td>\n",
       "      <td>100</td>\n",
       "      <td>100</td>\n",
       "      <td>176</td>\n",
       "      <td>609</td>\n",
       "      <td>-71</td>\n",
       "      <td>999.70</td>\n",
       "      <td>97.24</td>\n",
       "      <td>-163.22</td>\n",
       "    </tr>\n",
       "  </tbody>\n",
       "</table>\n",
       "</div>"
      ],
      "text/plain": [
       "                                      ticks  acc_x  acc_y  acc_z  gyr_x  \\\n",
       "b28a8a33-e2c6-4135-b3b2-b023ce16ef90   6807   -992    -40   -124   -700   \n",
       "ef00b6ef-42da-4fe2-899b-4c8d3f1cdd9a   6826   -992    -39   -126   -800   \n",
       "0674a27f-196d-4d02-ad8e-538015cf996b   6845   -992    -37   -125   -800   \n",
       "2b45e4d6-f73f-45c4-8e25-235150248841   6863   -993    -39   -125   -700   \n",
       "7b64dd9b-62c9-48df-beac-2c98655ed3cc   6882   -991    -38   -126   -800   \n",
       "\n",
       "                                      gyr_y  gyr_z  mag_x  mag_y  mag_z  \\\n",
       "b28a8a33-e2c6-4135-b3b2-b023ce16ef90    100      0    170    607    -68   \n",
       "ef00b6ef-42da-4fe2-899b-4c8d3f1cdd9a    400   -200    182    613    -62   \n",
       "0674a27f-196d-4d02-ad8e-538015cf996b   -100      0    177    613    -65   \n",
       "2b45e4d6-f73f-45c4-8e25-235150248841      0      0    174    613    -68   \n",
       "7b64dd9b-62c9-48df-beac-2c98655ed3cc    100    100    176    609    -71   \n",
       "\n",
       "                                            r  theta     phi  \n",
       "b28a8a33-e2c6-4135-b3b2-b023ce16ef90  1000.52  97.12 -162.12  \n",
       "ef00b6ef-42da-4fe2-899b-4c8d3f1cdd9a  1000.73  97.23 -162.80  \n",
       "0674a27f-196d-4d02-ad8e-538015cf996b  1000.53  97.18 -163.51  \n",
       "2b45e4d6-f73f-45c4-8e25-235150248841  1001.60  97.17 -162.67  \n",
       "7b64dd9b-62c9-48df-beac-2c98655ed3cc   999.70  97.24 -163.22  "
      ]
     },
     "execution_count": 4,
     "metadata": {},
     "output_type": "execute_result"
    }
   ],
   "source": [
    "df.head()"
   ]
  },
  {
   "cell_type": "markdown",
   "metadata": {},
   "source": [
    "Since _acc_y_ and _acc_z_ are components of _phi_, it should be expected that these components demonstrate the highest correlation. Further down, we look for the highest correlations with _phi_"
   ]
  },
  {
   "cell_type": "markdown",
   "metadata": {},
   "source": [
    "<img src=\"https://upload.wikimedia.org/wikipedia/commons/a/a8/Arctangent2.svg\" /> (Source: Wikipedia, 2021)"
   ]
  },
  {
   "cell_type": "code",
   "execution_count": 5,
   "metadata": {},
   "outputs": [],
   "source": [
    "df['arctan2_acc_y_acc_z'] = np.degrees(np.arctan2(df['acc_y'], df['acc_z']))"
   ]
  },
  {
   "cell_type": "markdown",
   "metadata": {},
   "source": [
    "Right now, we can identify the inputs of _phi_ and how it is components"
   ]
  },
  {
   "cell_type": "code",
   "execution_count": 6,
   "metadata": {},
   "outputs": [
    {
     "data": {
      "text/html": [
       "<div>\n",
       "<style scoped>\n",
       "    .dataframe tbody tr th:only-of-type {\n",
       "        vertical-align: middle;\n",
       "    }\n",
       "\n",
       "    .dataframe tbody tr th {\n",
       "        vertical-align: top;\n",
       "    }\n",
       "\n",
       "    .dataframe thead th {\n",
       "        text-align: right;\n",
       "    }\n",
       "</style>\n",
       "<table border=\"1\" class=\"dataframe\">\n",
       "  <thead>\n",
       "    <tr style=\"text-align: right;\">\n",
       "      <th></th>\n",
       "      <th>ticks</th>\n",
       "      <th>acc_x</th>\n",
       "      <th>acc_y</th>\n",
       "      <th>acc_z</th>\n",
       "      <th>gyr_x</th>\n",
       "      <th>gyr_y</th>\n",
       "      <th>gyr_z</th>\n",
       "      <th>mag_x</th>\n",
       "      <th>mag_y</th>\n",
       "      <th>mag_z</th>\n",
       "      <th>r</th>\n",
       "      <th>theta</th>\n",
       "      <th>phi</th>\n",
       "      <th>arctan2_acc_y_acc_z</th>\n",
       "    </tr>\n",
       "  </thead>\n",
       "  <tbody>\n",
       "    <tr>\n",
       "      <th>b28a8a33-e2c6-4135-b3b2-b023ce16ef90</th>\n",
       "      <td>6807</td>\n",
       "      <td>-992</td>\n",
       "      <td>-40</td>\n",
       "      <td>-124</td>\n",
       "      <td>-700</td>\n",
       "      <td>100</td>\n",
       "      <td>0</td>\n",
       "      <td>170</td>\n",
       "      <td>607</td>\n",
       "      <td>-68</td>\n",
       "      <td>1000.52</td>\n",
       "      <td>97.12</td>\n",
       "      <td>-162.12</td>\n",
       "      <td>-162.121303</td>\n",
       "    </tr>\n",
       "    <tr>\n",
       "      <th>ef00b6ef-42da-4fe2-899b-4c8d3f1cdd9a</th>\n",
       "      <td>6826</td>\n",
       "      <td>-992</td>\n",
       "      <td>-39</td>\n",
       "      <td>-126</td>\n",
       "      <td>-800</td>\n",
       "      <td>400</td>\n",
       "      <td>-200</td>\n",
       "      <td>182</td>\n",
       "      <td>613</td>\n",
       "      <td>-62</td>\n",
       "      <td>1000.73</td>\n",
       "      <td>97.23</td>\n",
       "      <td>-162.80</td>\n",
       "      <td>-162.801459</td>\n",
       "    </tr>\n",
       "    <tr>\n",
       "      <th>0674a27f-196d-4d02-ad8e-538015cf996b</th>\n",
       "      <td>6845</td>\n",
       "      <td>-992</td>\n",
       "      <td>-37</td>\n",
       "      <td>-125</td>\n",
       "      <td>-800</td>\n",
       "      <td>-100</td>\n",
       "      <td>0</td>\n",
       "      <td>177</td>\n",
       "      <td>613</td>\n",
       "      <td>-65</td>\n",
       "      <td>1000.53</td>\n",
       "      <td>97.18</td>\n",
       "      <td>-163.51</td>\n",
       "      <td>-163.511246</td>\n",
       "    </tr>\n",
       "    <tr>\n",
       "      <th>2b45e4d6-f73f-45c4-8e25-235150248841</th>\n",
       "      <td>6863</td>\n",
       "      <td>-993</td>\n",
       "      <td>-39</td>\n",
       "      <td>-125</td>\n",
       "      <td>-700</td>\n",
       "      <td>0</td>\n",
       "      <td>0</td>\n",
       "      <td>174</td>\n",
       "      <td>613</td>\n",
       "      <td>-68</td>\n",
       "      <td>1001.60</td>\n",
       "      <td>97.17</td>\n",
       "      <td>-162.67</td>\n",
       "      <td>-162.672078</td>\n",
       "    </tr>\n",
       "    <tr>\n",
       "      <th>7b64dd9b-62c9-48df-beac-2c98655ed3cc</th>\n",
       "      <td>6882</td>\n",
       "      <td>-991</td>\n",
       "      <td>-38</td>\n",
       "      <td>-126</td>\n",
       "      <td>-800</td>\n",
       "      <td>100</td>\n",
       "      <td>100</td>\n",
       "      <td>176</td>\n",
       "      <td>609</td>\n",
       "      <td>-71</td>\n",
       "      <td>999.70</td>\n",
       "      <td>97.24</td>\n",
       "      <td>-163.22</td>\n",
       "      <td>-163.217356</td>\n",
       "    </tr>\n",
       "  </tbody>\n",
       "</table>\n",
       "</div>"
      ],
      "text/plain": [
       "                                      ticks  acc_x  acc_y  acc_z  gyr_x  \\\n",
       "b28a8a33-e2c6-4135-b3b2-b023ce16ef90   6807   -992    -40   -124   -700   \n",
       "ef00b6ef-42da-4fe2-899b-4c8d3f1cdd9a   6826   -992    -39   -126   -800   \n",
       "0674a27f-196d-4d02-ad8e-538015cf996b   6845   -992    -37   -125   -800   \n",
       "2b45e4d6-f73f-45c4-8e25-235150248841   6863   -993    -39   -125   -700   \n",
       "7b64dd9b-62c9-48df-beac-2c98655ed3cc   6882   -991    -38   -126   -800   \n",
       "\n",
       "                                      gyr_y  gyr_z  mag_x  mag_y  mag_z  \\\n",
       "b28a8a33-e2c6-4135-b3b2-b023ce16ef90    100      0    170    607    -68   \n",
       "ef00b6ef-42da-4fe2-899b-4c8d3f1cdd9a    400   -200    182    613    -62   \n",
       "0674a27f-196d-4d02-ad8e-538015cf996b   -100      0    177    613    -65   \n",
       "2b45e4d6-f73f-45c4-8e25-235150248841      0      0    174    613    -68   \n",
       "7b64dd9b-62c9-48df-beac-2c98655ed3cc    100    100    176    609    -71   \n",
       "\n",
       "                                            r  theta     phi  \\\n",
       "b28a8a33-e2c6-4135-b3b2-b023ce16ef90  1000.52  97.12 -162.12   \n",
       "ef00b6ef-42da-4fe2-899b-4c8d3f1cdd9a  1000.73  97.23 -162.80   \n",
       "0674a27f-196d-4d02-ad8e-538015cf996b  1000.53  97.18 -163.51   \n",
       "2b45e4d6-f73f-45c4-8e25-235150248841  1001.60  97.17 -162.67   \n",
       "7b64dd9b-62c9-48df-beac-2c98655ed3cc   999.70  97.24 -163.22   \n",
       "\n",
       "                                      arctan2_acc_y_acc_z  \n",
       "b28a8a33-e2c6-4135-b3b2-b023ce16ef90          -162.121303  \n",
       "ef00b6ef-42da-4fe2-899b-4c8d3f1cdd9a          -162.801459  \n",
       "0674a27f-196d-4d02-ad8e-538015cf996b          -163.511246  \n",
       "2b45e4d6-f73f-45c4-8e25-235150248841          -162.672078  \n",
       "7b64dd9b-62c9-48df-beac-2c98655ed3cc          -163.217356  "
      ]
     },
     "execution_count": 6,
     "metadata": {},
     "output_type": "execute_result"
    }
   ],
   "source": [
    "df.head()"
   ]
  },
  {
   "cell_type": "code",
   "execution_count": 7,
   "metadata": {},
   "outputs": [
    {
     "name": "stdout",
     "output_type": "stream",
     "text": [
      "<class 'pandas.core.frame.DataFrame'>\n",
      "Index: 36 entries, b28a8a33-e2c6-4135-b3b2-b023ce16ef90 to e73e664d-b943-45ec-9484-10223b1fa6c5\n",
      "Data columns (total 14 columns):\n",
      " #   Column               Non-Null Count  Dtype  \n",
      "---  ------               --------------  -----  \n",
      " 0   ticks                36 non-null     int64  \n",
      " 1   acc_x                36 non-null     int64  \n",
      " 2   acc_y                36 non-null     int64  \n",
      " 3   acc_z                36 non-null     int64  \n",
      " 4   gyr_x                36 non-null     int64  \n",
      " 5   gyr_y                36 non-null     int64  \n",
      " 6   gyr_z                36 non-null     int64  \n",
      " 7   mag_x                36 non-null     int64  \n",
      " 8   mag_y                36 non-null     int64  \n",
      " 9   mag_z                36 non-null     int64  \n",
      " 10  r                    36 non-null     float64\n",
      " 11  theta                36 non-null     float64\n",
      " 12  phi                  36 non-null     float64\n",
      " 13  arctan2_acc_y_acc_z  36 non-null     float64\n",
      "dtypes: float64(4), int64(10)\n",
      "memory usage: 4.2+ KB\n"
     ]
    }
   ],
   "source": [
    "df.info()"
   ]
  },
  {
   "cell_type": "markdown",
   "metadata": {},
   "source": [
    "The following checks to see if we have any nulls in our data.  This situation would need to be remedied if any null data was found be substituting a default value, such as zero. "
   ]
  },
  {
   "cell_type": "code",
   "execution_count": 8,
   "metadata": {},
   "outputs": [
    {
     "name": "stdout",
     "output_type": "stream",
     "text": [
      "ticks                  0\n",
      "acc_x                  0\n",
      "acc_y                  0\n",
      "acc_z                  0\n",
      "gyr_x                  0\n",
      "gyr_y                  0\n",
      "gyr_z                  0\n",
      "mag_x                  0\n",
      "mag_y                  0\n",
      "mag_z                  0\n",
      "r                      0\n",
      "theta                  0\n",
      "phi                    0\n",
      "arctan2_acc_y_acc_z    0\n",
      "dtype: int64\n"
     ]
    }
   ],
   "source": [
    "print(df.isnull().sum())"
   ]
  },
  {
   "cell_type": "code",
   "execution_count": 9,
   "metadata": {},
   "outputs": [
    {
     "name": "stdout",
     "output_type": "stream",
     "text": [
      "                        ticks     acc_x     acc_y     acc_z     gyr_x  \\\n",
      "ticks                1.000000  0.173410 -0.083784  0.080326  0.066730   \n",
      "acc_x                0.173410  1.000000 -0.075791  0.014983  0.675143   \n",
      "acc_y               -0.083784 -0.075791  1.000000 -0.434211 -0.502327   \n",
      "acc_z                0.080326  0.014983 -0.434211  1.000000  0.072942   \n",
      "gyr_x                0.066730  0.675143 -0.502327  0.072942  1.000000   \n",
      "gyr_y                0.066177  0.099575  0.419817  0.281097 -0.365134   \n",
      "gyr_z                0.142463  0.361648  0.258142  0.334244 -0.106083   \n",
      "mag_x               -0.344510 -0.104303 -0.825874  0.095637  0.385684   \n",
      "mag_y               -0.141832 -0.986712  0.033893 -0.063891 -0.660370   \n",
      "mag_z               -0.275551  0.173542  0.580209 -0.891188 -0.004849   \n",
      "r                    0.044017 -0.208071 -0.193058  0.163937  0.041544   \n",
      "theta               -0.088957 -0.012785  0.438363 -0.992975 -0.101764   \n",
      "phi                  0.242572  0.399650  0.557863 -0.119045 -0.150858   \n",
      "arctan2_acc_y_acc_z  0.242576  0.399655  0.557860 -0.119040 -0.150855   \n",
      "\n",
      "                        gyr_y     gyr_z     mag_x     mag_y     mag_z  \\\n",
      "ticks                0.066177  0.142463 -0.344510 -0.141832 -0.275551   \n",
      "acc_x                0.099575  0.361648 -0.104303 -0.986712  0.173542   \n",
      "acc_y                0.419817  0.258142 -0.825874  0.033893  0.580209   \n",
      "acc_z                0.281097  0.334244  0.095637 -0.063891 -0.891188   \n",
      "gyr_x               -0.365134 -0.106083  0.385684 -0.660370 -0.004849   \n",
      "gyr_y                1.000000  0.609230 -0.493574 -0.136593 -0.106820   \n",
      "gyr_z                0.609230  1.000000 -0.455306 -0.378360 -0.082513   \n",
      "mag_x               -0.493574 -0.455306  1.000000  0.155058 -0.179421   \n",
      "mag_y               -0.136593 -0.378360  0.155058  1.000000 -0.151246   \n",
      "mag_z               -0.106820 -0.082513 -0.179421 -0.151246  1.000000   \n",
      "r                   -0.365225 -0.275233  0.155817  0.142029 -0.206964   \n",
      "theta               -0.271305 -0.307066 -0.097679  0.057611  0.901633   \n",
      "phi                  0.515974  0.399665 -0.670986 -0.414917  0.199480   \n",
      "arctan2_acc_y_acc_z  0.515978  0.399667 -0.670986 -0.414923  0.199476   \n",
      "\n",
      "                            r     theta       phi  arctan2_acc_y_acc_z  \n",
      "ticks                0.044017 -0.088957  0.242572             0.242576  \n",
      "acc_x               -0.208071 -0.012785  0.399650             0.399655  \n",
      "acc_y               -0.193058  0.438363  0.557863             0.557860  \n",
      "acc_z                0.163937 -0.992975 -0.119045            -0.119040  \n",
      "gyr_x                0.041544 -0.101764 -0.150858            -0.150855  \n",
      "gyr_y               -0.365225 -0.271305  0.515974             0.515978  \n",
      "gyr_z               -0.275233 -0.307066  0.399665             0.399667  \n",
      "mag_x                0.155817 -0.097679 -0.670986            -0.670986  \n",
      "mag_y                0.142029  0.057611 -0.414917            -0.414923  \n",
      "mag_z               -0.206964  0.901633  0.199480             0.199476  \n",
      "r                    1.000000 -0.147336 -0.124831            -0.124832  \n",
      "theta               -0.147336  1.000000  0.114263             0.114258  \n",
      "phi                 -0.124831  0.114263  1.000000             1.000000  \n",
      "arctan2_acc_y_acc_z -0.124832  0.114258  1.000000             1.000000  \n"
     ]
    }
   ],
   "source": [
    "corr = df.corr()\n",
    "print(corr)"
   ]
  },
  {
   "cell_type": "markdown",
   "metadata": {},
   "source": [
    "Get the top three features that has the highest correlation with acc_x"
   ]
  },
  {
   "cell_type": "code",
   "execution_count": 10,
   "metadata": {},
   "outputs": [
    {
     "name": "stdout",
     "output_type": "stream",
     "text": [
      "Index(['acc_x', 'mag_y', 'gyr_x'], dtype='object')\n",
      "[0.39964987 0.41491681 0.15085786]\n"
     ]
    }
   ],
   "source": [
    "#---get the top 3 features that has the highest correlation---\n",
    "print(df.corr().abs().nlargest(3, 'acc_x').index)\n",
    "print(df.corr().abs().nlargest(3, 'acc_x').values[:,12])"
   ]
  },
  {
   "cell_type": "markdown",
   "metadata": {},
   "source": [
    "Get the top three features that has the highest correlation with acc_y"
   ]
  },
  {
   "cell_type": "code",
   "execution_count": 11,
   "metadata": {},
   "outputs": [
    {
     "name": "stdout",
     "output_type": "stream",
     "text": [
      "Index(['acc_y', 'mag_x', 'mag_z'], dtype='object')\n",
      "[0.55786273 0.67098649 0.19947962]\n"
     ]
    }
   ],
   "source": [
    "print(df.corr().abs().nlargest(3, 'acc_y').index)\n",
    "print(df.corr().abs().nlargest(3, 'acc_y').values[:,12])"
   ]
  },
  {
   "cell_type": "markdown",
   "metadata": {},
   "source": [
    "Get the top three features that has the highest correlation with acc_y"
   ]
  },
  {
   "cell_type": "code",
   "execution_count": 12,
   "metadata": {},
   "outputs": [
    {
     "name": "stdout",
     "output_type": "stream",
     "text": [
      "Index(['acc_z', 'theta', 'mag_z'], dtype='object')\n",
      "[0.11904485 0.11426263 0.19947962]\n"
     ]
    }
   ],
   "source": [
    "print(df.corr().abs().nlargest(3, 'acc_z').index)\n",
    "print(df.corr().abs().nlargest(3, 'acc_z').values[:,12])"
   ]
  },
  {
   "cell_type": "code",
   "execution_count": 13,
   "metadata": {},
   "outputs": [
    {
     "data": {
      "text/html": [
       "<div>\n",
       "<style scoped>\n",
       "    .dataframe tbody tr th:only-of-type {\n",
       "        vertical-align: middle;\n",
       "    }\n",
       "\n",
       "    .dataframe tbody tr th {\n",
       "        vertical-align: top;\n",
       "    }\n",
       "\n",
       "    .dataframe thead th {\n",
       "        text-align: right;\n",
       "    }\n",
       "</style>\n",
       "<table border=\"1\" class=\"dataframe\">\n",
       "  <thead>\n",
       "    <tr style=\"text-align: right;\">\n",
       "      <th></th>\n",
       "      <th>ticks</th>\n",
       "      <th>acc_x</th>\n",
       "      <th>acc_y</th>\n",
       "      <th>acc_z</th>\n",
       "      <th>gyr_x</th>\n",
       "      <th>gyr_y</th>\n",
       "      <th>gyr_z</th>\n",
       "      <th>mag_x</th>\n",
       "      <th>mag_y</th>\n",
       "      <th>mag_z</th>\n",
       "      <th>r</th>\n",
       "      <th>theta</th>\n",
       "      <th>phi</th>\n",
       "      <th>arctan2_acc_y_acc_z</th>\n",
       "    </tr>\n",
       "  </thead>\n",
       "  <tbody>\n",
       "    <tr>\n",
       "      <th>b28a8a33-e2c6-4135-b3b2-b023ce16ef90</th>\n",
       "      <td>6807</td>\n",
       "      <td>-992</td>\n",
       "      <td>-40</td>\n",
       "      <td>-124</td>\n",
       "      <td>-700</td>\n",
       "      <td>100</td>\n",
       "      <td>0</td>\n",
       "      <td>170</td>\n",
       "      <td>607</td>\n",
       "      <td>-68</td>\n",
       "      <td>1000.52</td>\n",
       "      <td>97.12</td>\n",
       "      <td>-162.12</td>\n",
       "      <td>-162.121303</td>\n",
       "    </tr>\n",
       "    <tr>\n",
       "      <th>ef00b6ef-42da-4fe2-899b-4c8d3f1cdd9a</th>\n",
       "      <td>6826</td>\n",
       "      <td>-992</td>\n",
       "      <td>-39</td>\n",
       "      <td>-126</td>\n",
       "      <td>-800</td>\n",
       "      <td>400</td>\n",
       "      <td>-200</td>\n",
       "      <td>182</td>\n",
       "      <td>613</td>\n",
       "      <td>-62</td>\n",
       "      <td>1000.73</td>\n",
       "      <td>97.23</td>\n",
       "      <td>-162.80</td>\n",
       "      <td>-162.801459</td>\n",
       "    </tr>\n",
       "    <tr>\n",
       "      <th>0674a27f-196d-4d02-ad8e-538015cf996b</th>\n",
       "      <td>6845</td>\n",
       "      <td>-992</td>\n",
       "      <td>-37</td>\n",
       "      <td>-125</td>\n",
       "      <td>-800</td>\n",
       "      <td>-100</td>\n",
       "      <td>0</td>\n",
       "      <td>177</td>\n",
       "      <td>613</td>\n",
       "      <td>-65</td>\n",
       "      <td>1000.53</td>\n",
       "      <td>97.18</td>\n",
       "      <td>-163.51</td>\n",
       "      <td>-163.511246</td>\n",
       "    </tr>\n",
       "    <tr>\n",
       "      <th>2b45e4d6-f73f-45c4-8e25-235150248841</th>\n",
       "      <td>6863</td>\n",
       "      <td>-993</td>\n",
       "      <td>-39</td>\n",
       "      <td>-125</td>\n",
       "      <td>-700</td>\n",
       "      <td>0</td>\n",
       "      <td>0</td>\n",
       "      <td>174</td>\n",
       "      <td>613</td>\n",
       "      <td>-68</td>\n",
       "      <td>1001.60</td>\n",
       "      <td>97.17</td>\n",
       "      <td>-162.67</td>\n",
       "      <td>-162.672078</td>\n",
       "    </tr>\n",
       "    <tr>\n",
       "      <th>7b64dd9b-62c9-48df-beac-2c98655ed3cc</th>\n",
       "      <td>6882</td>\n",
       "      <td>-991</td>\n",
       "      <td>-38</td>\n",
       "      <td>-126</td>\n",
       "      <td>-800</td>\n",
       "      <td>100</td>\n",
       "      <td>100</td>\n",
       "      <td>176</td>\n",
       "      <td>609</td>\n",
       "      <td>-71</td>\n",
       "      <td>999.70</td>\n",
       "      <td>97.24</td>\n",
       "      <td>-163.22</td>\n",
       "      <td>-163.217356</td>\n",
       "    </tr>\n",
       "  </tbody>\n",
       "</table>\n",
       "</div>"
      ],
      "text/plain": [
       "                                      ticks  acc_x  acc_y  acc_z  gyr_x  \\\n",
       "b28a8a33-e2c6-4135-b3b2-b023ce16ef90   6807   -992    -40   -124   -700   \n",
       "ef00b6ef-42da-4fe2-899b-4c8d3f1cdd9a   6826   -992    -39   -126   -800   \n",
       "0674a27f-196d-4d02-ad8e-538015cf996b   6845   -992    -37   -125   -800   \n",
       "2b45e4d6-f73f-45c4-8e25-235150248841   6863   -993    -39   -125   -700   \n",
       "7b64dd9b-62c9-48df-beac-2c98655ed3cc   6882   -991    -38   -126   -800   \n",
       "\n",
       "                                      gyr_y  gyr_z  mag_x  mag_y  mag_z  \\\n",
       "b28a8a33-e2c6-4135-b3b2-b023ce16ef90    100      0    170    607    -68   \n",
       "ef00b6ef-42da-4fe2-899b-4c8d3f1cdd9a    400   -200    182    613    -62   \n",
       "0674a27f-196d-4d02-ad8e-538015cf996b   -100      0    177    613    -65   \n",
       "2b45e4d6-f73f-45c4-8e25-235150248841      0      0    174    613    -68   \n",
       "7b64dd9b-62c9-48df-beac-2c98655ed3cc    100    100    176    609    -71   \n",
       "\n",
       "                                            r  theta     phi  \\\n",
       "b28a8a33-e2c6-4135-b3b2-b023ce16ef90  1000.52  97.12 -162.12   \n",
       "ef00b6ef-42da-4fe2-899b-4c8d3f1cdd9a  1000.73  97.23 -162.80   \n",
       "0674a27f-196d-4d02-ad8e-538015cf996b  1000.53  97.18 -163.51   \n",
       "2b45e4d6-f73f-45c4-8e25-235150248841  1001.60  97.17 -162.67   \n",
       "7b64dd9b-62c9-48df-beac-2c98655ed3cc   999.70  97.24 -163.22   \n",
       "\n",
       "                                      arctan2_acc_y_acc_z  \n",
       "b28a8a33-e2c6-4135-b3b2-b023ce16ef90          -162.121303  \n",
       "ef00b6ef-42da-4fe2-899b-4c8d3f1cdd9a          -162.801459  \n",
       "0674a27f-196d-4d02-ad8e-538015cf996b          -163.511246  \n",
       "2b45e4d6-f73f-45c4-8e25-235150248841          -162.672078  \n",
       "7b64dd9b-62c9-48df-beac-2c98655ed3cc          -163.217356  "
      ]
     },
     "execution_count": 13,
     "metadata": {},
     "output_type": "execute_result"
    }
   ],
   "source": [
    "df.head()"
   ]
  },
  {
   "cell_type": "markdown",
   "metadata": {},
   "source": [
    "Since it is known that _phi_ is the arc-tangent of _acc_y_ and _acc_z_ then we "
   ]
  },
  {
   "cell_type": "code",
   "execution_count": 14,
   "metadata": {},
   "outputs": [],
   "source": [
    "x = pd.DataFrame(np.c_[df['acc_z'], df['acc_y']], columns = ['acc_z','acc_y'])\n",
    "Y = df['phi']"
   ]
  },
  {
   "cell_type": "code",
   "execution_count": 15,
   "metadata": {},
   "outputs": [],
   "source": [
    "from sklearn.model_selection import train_test_split\n",
    "x_train, x_test, Y_train, Y_test = train_test_split(x, Y, test_size = 0.3,\n",
    "                                                    random_state=5)"
   ]
  },
  {
   "cell_type": "code",
   "execution_count": 16,
   "metadata": {},
   "outputs": [
    {
     "data": {
      "text/plain": [
       "LinearRegression()"
      ]
     },
     "execution_count": 16,
     "metadata": {},
     "output_type": "execute_result"
    }
   ],
   "source": [
    "from sklearn.linear_model import LinearRegression\n",
    "\n",
    "model = LinearRegression()\n",
    "model.fit(x_train, Y_train)"
   ]
  },
  {
   "cell_type": "code",
   "execution_count": 17,
   "metadata": {},
   "outputs": [],
   "source": [
    "phi_pred = model.predict(x_test)"
   ]
  },
  {
   "cell_type": "code",
   "execution_count": 18,
   "metadata": {},
   "outputs": [
    {
     "name": "stdout",
     "output_type": "stream",
     "text": [
      "R-squared: -0.3809\n"
     ]
    }
   ],
   "source": [
    "print('R-squared: %.4f' % model.score(x_test,\n",
    "                                      Y_test))"
   ]
  },
  {
   "cell_type": "code",
   "execution_count": null,
   "metadata": {},
   "outputs": [],
   "source": []
  }
 ],
 "metadata": {
  "interpreter": {
   "hash": "983d4753b88ebd808a4ada14ea2cd3ed78a040780fc373df5e9595f3e364d8dd"
  },
  "kernelspec": {
   "display_name": "Python 3 (ipykernel)",
   "language": "python",
   "name": "python3"
  },
  "language_info": {
   "codemirror_mode": {
    "name": "ipython",
    "version": 3
   },
   "file_extension": ".py",
   "mimetype": "text/x-python",
   "name": "python",
   "nbconvert_exporter": "python",
   "pygments_lexer": "ipython3",
   "version": "3.9.5"
  }
 },
 "nbformat": 4,
 "nbformat_minor": 2
}
